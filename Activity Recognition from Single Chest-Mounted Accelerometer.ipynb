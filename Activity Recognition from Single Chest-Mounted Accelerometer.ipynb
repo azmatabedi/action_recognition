{
 "cells": [
  {
   "cell_type": "code",
   "execution_count": null,
   "id": "99661bc2",
   "metadata": {},
   "outputs": [],
   "source": [
    "import numpy as np\n",
    "import pandas as pd\n",
    "import matplotlib.pyplot as plt\n",
    "from sklearn.model_selection import train_test_split\n",
    "from sklearn.neighbors import KNeighborsClassifier \n",
    "from sklearn.metrics import classification_report,confusion_matrix\n",
    "from sklearn.tree import DecisionTreeClassifier\n",
    "from sklearn.preprocessing import StandardScaler\n",
    "from sklearn.metrics import accuracy_score\n",
    "\n",
    "\n",
    "\n",
    "import tensorflow as tf\n",
    "from tensorflow  import keras as k\n",
    "from tensorflow.keras import backend as K\n",
    "from tensorflow.keras.utils import to_categorical\n"
   ]
  },
  {
   "cell_type": "markdown",
   "id": "b6c796ce",
   "metadata": {},
   "source": [
    "# load the dataset"
   ]
  },
  {
   "cell_type": "code",
   "execution_count": 2,
   "id": "88de2db3",
   "metadata": {},
   "outputs": [],
   "source": [
    "dataset= pd.read_csv(\"1.csv\");  # load the  dataset"
   ]
  },
  {
   "cell_type": "code",
   "execution_count": 3,
   "id": "e15dfdf8",
   "metadata": {},
   "outputs": [
    {
     "data": {
      "text/html": [
       "<div>\n",
       "<style scoped>\n",
       "    .dataframe tbody tr th:only-of-type {\n",
       "        vertical-align: middle;\n",
       "    }\n",
       "\n",
       "    .dataframe tbody tr th {\n",
       "        vertical-align: top;\n",
       "    }\n",
       "\n",
       "    .dataframe thead th {\n",
       "        text-align: right;\n",
       "    }\n",
       "</style>\n",
       "<table border=\"1\" class=\"dataframe\">\n",
       "  <thead>\n",
       "    <tr style=\"text-align: right;\">\n",
       "      <th></th>\n",
       "      <th>0</th>\n",
       "      <th>1502</th>\n",
       "      <th>2215</th>\n",
       "      <th>2153</th>\n",
       "      <th>1</th>\n",
       "    </tr>\n",
       "  </thead>\n",
       "  <tbody>\n",
       "    <tr>\n",
       "      <th>0</th>\n",
       "      <td>1.0</td>\n",
       "      <td>1667</td>\n",
       "      <td>2072</td>\n",
       "      <td>2047</td>\n",
       "      <td>1</td>\n",
       "    </tr>\n",
       "    <tr>\n",
       "      <th>1</th>\n",
       "      <td>2.0</td>\n",
       "      <td>1611</td>\n",
       "      <td>1957</td>\n",
       "      <td>1906</td>\n",
       "      <td>1</td>\n",
       "    </tr>\n",
       "    <tr>\n",
       "      <th>2</th>\n",
       "      <td>3.0</td>\n",
       "      <td>1601</td>\n",
       "      <td>1939</td>\n",
       "      <td>1831</td>\n",
       "      <td>1</td>\n",
       "    </tr>\n",
       "    <tr>\n",
       "      <th>3</th>\n",
       "      <td>4.0</td>\n",
       "      <td>1643</td>\n",
       "      <td>1965</td>\n",
       "      <td>1879</td>\n",
       "      <td>1</td>\n",
       "    </tr>\n",
       "    <tr>\n",
       "      <th>4</th>\n",
       "      <td>5.0</td>\n",
       "      <td>1604</td>\n",
       "      <td>1959</td>\n",
       "      <td>1921</td>\n",
       "      <td>1</td>\n",
       "    </tr>\n",
       "    <tr>\n",
       "      <th>...</th>\n",
       "      <td>...</td>\n",
       "      <td>...</td>\n",
       "      <td>...</td>\n",
       "      <td>...</td>\n",
       "      <td>...</td>\n",
       "    </tr>\n",
       "    <tr>\n",
       "      <th>162495</th>\n",
       "      <td>162500.0</td>\n",
       "      <td>1927</td>\n",
       "      <td>2388</td>\n",
       "      <td>2074</td>\n",
       "      <td>7</td>\n",
       "    </tr>\n",
       "    <tr>\n",
       "      <th>162496</th>\n",
       "      <td>162500.0</td>\n",
       "      <td>1930</td>\n",
       "      <td>2383</td>\n",
       "      <td>2074</td>\n",
       "      <td>7</td>\n",
       "    </tr>\n",
       "    <tr>\n",
       "      <th>162497</th>\n",
       "      <td>162500.0</td>\n",
       "      <td>1929</td>\n",
       "      <td>2385</td>\n",
       "      <td>2076</td>\n",
       "      <td>7</td>\n",
       "    </tr>\n",
       "    <tr>\n",
       "      <th>162498</th>\n",
       "      <td>162500.0</td>\n",
       "      <td>1926</td>\n",
       "      <td>2385</td>\n",
       "      <td>2078</td>\n",
       "      <td>7</td>\n",
       "    </tr>\n",
       "    <tr>\n",
       "      <th>162499</th>\n",
       "      <td>162500.0</td>\n",
       "      <td>1922</td>\n",
       "      <td>2387</td>\n",
       "      <td>2078</td>\n",
       "      <td>0</td>\n",
       "    </tr>\n",
       "  </tbody>\n",
       "</table>\n",
       "<p>162500 rows × 5 columns</p>\n",
       "</div>"
      ],
      "text/plain": [
       "               0  1502  2215  2153  1\n",
       "0            1.0  1667  2072  2047  1\n",
       "1            2.0  1611  1957  1906  1\n",
       "2            3.0  1601  1939  1831  1\n",
       "3            4.0  1643  1965  1879  1\n",
       "4            5.0  1604  1959  1921  1\n",
       "...          ...   ...   ...   ... ..\n",
       "162495  162500.0  1927  2388  2074  7\n",
       "162496  162500.0  1930  2383  2074  7\n",
       "162497  162500.0  1929  2385  2076  7\n",
       "162498  162500.0  1926  2385  2078  7\n",
       "162499  162500.0  1922  2387  2078  0\n",
       "\n",
       "[162500 rows x 5 columns]"
      ]
     },
     "execution_count": 3,
     "metadata": {},
     "output_type": "execute_result"
    }
   ],
   "source": [
    "dataset"
   ]
  },
  {
   "cell_type": "markdown",
   "id": "3660a46f",
   "metadata": {},
   "source": [
    "# Preprocessiong "
   ]
  },
  {
   "cell_type": "code",
   "execution_count": 4,
   "id": "185fe296",
   "metadata": {},
   "outputs": [],
   "source": [
    "dataset=dataset.drop(['0'], axis=1)   # the dataset has the index 0 is columns that why remove that"
   ]
  },
  {
   "cell_type": "code",
   "execution_count": 5,
   "id": "07bcfa1b",
   "metadata": {},
   "outputs": [
    {
     "data": {
      "text/html": [
       "<div>\n",
       "<style scoped>\n",
       "    .dataframe tbody tr th:only-of-type {\n",
       "        vertical-align: middle;\n",
       "    }\n",
       "\n",
       "    .dataframe tbody tr th {\n",
       "        vertical-align: top;\n",
       "    }\n",
       "\n",
       "    .dataframe thead th {\n",
       "        text-align: right;\n",
       "    }\n",
       "</style>\n",
       "<table border=\"1\" class=\"dataframe\">\n",
       "  <thead>\n",
       "    <tr style=\"text-align: right;\">\n",
       "      <th></th>\n",
       "      <th>1502</th>\n",
       "      <th>2215</th>\n",
       "      <th>2153</th>\n",
       "      <th>1</th>\n",
       "    </tr>\n",
       "  </thead>\n",
       "  <tbody>\n",
       "    <tr>\n",
       "      <th>0</th>\n",
       "      <td>1667</td>\n",
       "      <td>2072</td>\n",
       "      <td>2047</td>\n",
       "      <td>1</td>\n",
       "    </tr>\n",
       "    <tr>\n",
       "      <th>1</th>\n",
       "      <td>1611</td>\n",
       "      <td>1957</td>\n",
       "      <td>1906</td>\n",
       "      <td>1</td>\n",
       "    </tr>\n",
       "    <tr>\n",
       "      <th>2</th>\n",
       "      <td>1601</td>\n",
       "      <td>1939</td>\n",
       "      <td>1831</td>\n",
       "      <td>1</td>\n",
       "    </tr>\n",
       "    <tr>\n",
       "      <th>3</th>\n",
       "      <td>1643</td>\n",
       "      <td>1965</td>\n",
       "      <td>1879</td>\n",
       "      <td>1</td>\n",
       "    </tr>\n",
       "    <tr>\n",
       "      <th>4</th>\n",
       "      <td>1604</td>\n",
       "      <td>1959</td>\n",
       "      <td>1921</td>\n",
       "      <td>1</td>\n",
       "    </tr>\n",
       "    <tr>\n",
       "      <th>...</th>\n",
       "      <td>...</td>\n",
       "      <td>...</td>\n",
       "      <td>...</td>\n",
       "      <td>...</td>\n",
       "    </tr>\n",
       "    <tr>\n",
       "      <th>162495</th>\n",
       "      <td>1927</td>\n",
       "      <td>2388</td>\n",
       "      <td>2074</td>\n",
       "      <td>7</td>\n",
       "    </tr>\n",
       "    <tr>\n",
       "      <th>162496</th>\n",
       "      <td>1930</td>\n",
       "      <td>2383</td>\n",
       "      <td>2074</td>\n",
       "      <td>7</td>\n",
       "    </tr>\n",
       "    <tr>\n",
       "      <th>162497</th>\n",
       "      <td>1929</td>\n",
       "      <td>2385</td>\n",
       "      <td>2076</td>\n",
       "      <td>7</td>\n",
       "    </tr>\n",
       "    <tr>\n",
       "      <th>162498</th>\n",
       "      <td>1926</td>\n",
       "      <td>2385</td>\n",
       "      <td>2078</td>\n",
       "      <td>7</td>\n",
       "    </tr>\n",
       "    <tr>\n",
       "      <th>162499</th>\n",
       "      <td>1922</td>\n",
       "      <td>2387</td>\n",
       "      <td>2078</td>\n",
       "      <td>0</td>\n",
       "    </tr>\n",
       "  </tbody>\n",
       "</table>\n",
       "<p>162500 rows × 4 columns</p>\n",
       "</div>"
      ],
      "text/plain": [
       "        1502  2215  2153  1\n",
       "0       1667  2072  2047  1\n",
       "1       1611  1957  1906  1\n",
       "2       1601  1939  1831  1\n",
       "3       1643  1965  1879  1\n",
       "4       1604  1959  1921  1\n",
       "...      ...   ...   ... ..\n",
       "162495  1927  2388  2074  7\n",
       "162496  1930  2383  2074  7\n",
       "162497  1929  2385  2076  7\n",
       "162498  1926  2385  2078  7\n",
       "162499  1922  2387  2078  0\n",
       "\n",
       "[162500 rows x 4 columns]"
      ]
     },
     "execution_count": 5,
     "metadata": {},
     "output_type": "execute_result"
    }
   ],
   "source": [
    "dataset"
   ]
  },
  {
   "cell_type": "code",
   "execution_count": 6,
   "id": "09ed604a",
   "metadata": {},
   "outputs": [
    {
     "data": {
      "text/html": [
       "<div>\n",
       "<style scoped>\n",
       "    .dataframe tbody tr th:only-of-type {\n",
       "        vertical-align: middle;\n",
       "    }\n",
       "\n",
       "    .dataframe tbody tr th {\n",
       "        vertical-align: top;\n",
       "    }\n",
       "\n",
       "    .dataframe thead th {\n",
       "        text-align: right;\n",
       "    }\n",
       "</style>\n",
       "<table border=\"1\" class=\"dataframe\">\n",
       "  <thead>\n",
       "    <tr style=\"text-align: right;\">\n",
       "      <th></th>\n",
       "      <th>1502</th>\n",
       "      <th>2215</th>\n",
       "      <th>2153</th>\n",
       "      <th>1</th>\n",
       "    </tr>\n",
       "  </thead>\n",
       "  <tbody>\n",
       "    <tr>\n",
       "      <th>count</th>\n",
       "      <td>162500.000000</td>\n",
       "      <td>162500.000000</td>\n",
       "      <td>162500.000000</td>\n",
       "      <td>162500.000000</td>\n",
       "    </tr>\n",
       "    <tr>\n",
       "      <th>mean</th>\n",
       "      <td>1910.673372</td>\n",
       "      <td>2380.287385</td>\n",
       "      <td>2041.214142</td>\n",
       "      <td>4.899705</td>\n",
       "    </tr>\n",
       "    <tr>\n",
       "      <th>std</th>\n",
       "      <td>40.640690</td>\n",
       "      <td>41.923851</td>\n",
       "      <td>59.528943</td>\n",
       "      <td>2.424299</td>\n",
       "    </tr>\n",
       "    <tr>\n",
       "      <th>min</th>\n",
       "      <td>1455.000000</td>\n",
       "      <td>1697.000000</td>\n",
       "      <td>1644.000000</td>\n",
       "      <td>0.000000</td>\n",
       "    </tr>\n",
       "    <tr>\n",
       "      <th>25%</th>\n",
       "      <td>1886.000000</td>\n",
       "      <td>2374.000000</td>\n",
       "      <td>1991.000000</td>\n",
       "      <td>3.000000</td>\n",
       "    </tr>\n",
       "    <tr>\n",
       "      <th>50%</th>\n",
       "      <td>1905.000000</td>\n",
       "      <td>2381.000000</td>\n",
       "      <td>2022.000000</td>\n",
       "      <td>7.000000</td>\n",
       "    </tr>\n",
       "    <tr>\n",
       "      <th>75%</th>\n",
       "      <td>1935.000000</td>\n",
       "      <td>2386.000000</td>\n",
       "      <td>2101.000000</td>\n",
       "      <td>7.000000</td>\n",
       "    </tr>\n",
       "    <tr>\n",
       "      <th>max</th>\n",
       "      <td>2356.000000</td>\n",
       "      <td>2713.000000</td>\n",
       "      <td>2739.000000</td>\n",
       "      <td>7.000000</td>\n",
       "    </tr>\n",
       "  </tbody>\n",
       "</table>\n",
       "</div>"
      ],
      "text/plain": [
       "                1502           2215           2153              1\n",
       "count  162500.000000  162500.000000  162500.000000  162500.000000\n",
       "mean     1910.673372    2380.287385    2041.214142       4.899705\n",
       "std        40.640690      41.923851      59.528943       2.424299\n",
       "min      1455.000000    1697.000000    1644.000000       0.000000\n",
       "25%      1886.000000    2374.000000    1991.000000       3.000000\n",
       "50%      1905.000000    2381.000000    2022.000000       7.000000\n",
       "75%      1935.000000    2386.000000    2101.000000       7.000000\n",
       "max      2356.000000    2713.000000    2739.000000       7.000000"
      ]
     },
     "execution_count": 6,
     "metadata": {},
     "output_type": "execute_result"
    }
   ],
   "source": [
    "dataset.describe()    # describe the quatriles ,how the features are the scaled ,class is balanced or not"
   ]
  },
  {
   "cell_type": "code",
   "execution_count": 7,
   "id": "f4f4eccf",
   "metadata": {},
   "outputs": [
    {
     "data": {
      "text/html": [
       "<div>\n",
       "<style scoped>\n",
       "    .dataframe tbody tr th:only-of-type {\n",
       "        vertical-align: middle;\n",
       "    }\n",
       "\n",
       "    .dataframe tbody tr th {\n",
       "        vertical-align: top;\n",
       "    }\n",
       "\n",
       "    .dataframe thead th {\n",
       "        text-align: right;\n",
       "    }\n",
       "</style>\n",
       "<table border=\"1\" class=\"dataframe\">\n",
       "  <thead>\n",
       "    <tr style=\"text-align: right;\">\n",
       "      <th></th>\n",
       "      <th>1502</th>\n",
       "      <th>2215</th>\n",
       "      <th>2153</th>\n",
       "      <th>1</th>\n",
       "    </tr>\n",
       "  </thead>\n",
       "  <tbody>\n",
       "    <tr>\n",
       "      <th>0</th>\n",
       "      <td>False</td>\n",
       "      <td>False</td>\n",
       "      <td>False</td>\n",
       "      <td>False</td>\n",
       "    </tr>\n",
       "    <tr>\n",
       "      <th>1</th>\n",
       "      <td>False</td>\n",
       "      <td>False</td>\n",
       "      <td>False</td>\n",
       "      <td>False</td>\n",
       "    </tr>\n",
       "    <tr>\n",
       "      <th>2</th>\n",
       "      <td>False</td>\n",
       "      <td>False</td>\n",
       "      <td>False</td>\n",
       "      <td>False</td>\n",
       "    </tr>\n",
       "    <tr>\n",
       "      <th>3</th>\n",
       "      <td>False</td>\n",
       "      <td>False</td>\n",
       "      <td>False</td>\n",
       "      <td>False</td>\n",
       "    </tr>\n",
       "    <tr>\n",
       "      <th>4</th>\n",
       "      <td>False</td>\n",
       "      <td>False</td>\n",
       "      <td>False</td>\n",
       "      <td>False</td>\n",
       "    </tr>\n",
       "    <tr>\n",
       "      <th>...</th>\n",
       "      <td>...</td>\n",
       "      <td>...</td>\n",
       "      <td>...</td>\n",
       "      <td>...</td>\n",
       "    </tr>\n",
       "    <tr>\n",
       "      <th>162495</th>\n",
       "      <td>False</td>\n",
       "      <td>False</td>\n",
       "      <td>False</td>\n",
       "      <td>False</td>\n",
       "    </tr>\n",
       "    <tr>\n",
       "      <th>162496</th>\n",
       "      <td>False</td>\n",
       "      <td>False</td>\n",
       "      <td>False</td>\n",
       "      <td>False</td>\n",
       "    </tr>\n",
       "    <tr>\n",
       "      <th>162497</th>\n",
       "      <td>False</td>\n",
       "      <td>False</td>\n",
       "      <td>False</td>\n",
       "      <td>False</td>\n",
       "    </tr>\n",
       "    <tr>\n",
       "      <th>162498</th>\n",
       "      <td>False</td>\n",
       "      <td>False</td>\n",
       "      <td>False</td>\n",
       "      <td>False</td>\n",
       "    </tr>\n",
       "    <tr>\n",
       "      <th>162499</th>\n",
       "      <td>False</td>\n",
       "      <td>False</td>\n",
       "      <td>False</td>\n",
       "      <td>False</td>\n",
       "    </tr>\n",
       "  </tbody>\n",
       "</table>\n",
       "<p>162500 rows × 4 columns</p>\n",
       "</div>"
      ],
      "text/plain": [
       "         1502   2215   2153      1\n",
       "0       False  False  False  False\n",
       "1       False  False  False  False\n",
       "2       False  False  False  False\n",
       "3       False  False  False  False\n",
       "4       False  False  False  False\n",
       "...       ...    ...    ...    ...\n",
       "162495  False  False  False  False\n",
       "162496  False  False  False  False\n",
       "162497  False  False  False  False\n",
       "162498  False  False  False  False\n",
       "162499  False  False  False  False\n",
       "\n",
       "[162500 rows x 4 columns]"
      ]
     },
     "execution_count": 7,
     "metadata": {},
     "output_type": "execute_result"
    }
   ],
   "source": [
    "dataset.isnull()    #checking the values that dose the dataset have the null values or not"
   ]
  },
  {
   "cell_type": "code",
   "execution_count": 8,
   "id": "d4b03081",
   "metadata": {},
   "outputs": [
    {
     "name": "stdout",
     "output_type": "stream",
     "text": [
      "<class 'pandas.core.frame.DataFrame'>\n",
      "RangeIndex: 162500 entries, 0 to 162499\n",
      "Data columns (total 4 columns):\n",
      " #   Column  Non-Null Count   Dtype\n",
      "---  ------  --------------   -----\n",
      " 0   1502    162500 non-null  int64\n",
      " 1   2215    162500 non-null  int64\n",
      " 2   2153    162500 non-null  int64\n",
      " 3   1       162500 non-null  int64\n",
      "dtypes: int64(4)\n",
      "memory usage: 5.0 MB\n"
     ]
    }
   ],
   "source": [
    "dataset.info()   # checking the type of the of the feature that all the feature has the same type or not"
   ]
  },
  {
   "cell_type": "markdown",
   "id": "de2d4bc6",
   "metadata": {},
   "source": [
    "# Seperating the dependent and independet variables"
   ]
  },
  {
   "cell_type": "code",
   "execution_count": 9,
   "id": "38d61f34",
   "metadata": {},
   "outputs": [],
   "source": [
    "X=dataset.iloc[:,:3].values\n",
    "Y=dataset.iloc[:,3:4].values"
   ]
  },
  {
   "cell_type": "code",
   "execution_count": 10,
   "id": "6e42e9ed",
   "metadata": {},
   "outputs": [
    {
     "data": {
      "text/plain": [
       "(162500, 1)"
      ]
     },
     "execution_count": 10,
     "metadata": {},
     "output_type": "execute_result"
    }
   ],
   "source": [
    "print(X.shape)  ##checking the size of the columns are same \n",
    "print(Y.shape)"
   ]
  },
  {
   "cell_type": "code",
   "execution_count": 11,
   "id": "cc09a8c2",
   "metadata": {},
   "outputs": [],
   "source": [
    "xtrain,xtest,ytrain,ytest=train_test_split(X,Y,test_size=.20)   #split the dataset into traning and testing dataset  so that ML model validate"
   ]
  },
  {
   "cell_type": "markdown",
   "id": "538924ed",
   "metadata": {},
   "source": [
    "# standard scaler normalize the feature so that all the feature on the same scale"
   ]
  },
  {
   "cell_type": "code",
   "execution_count": 12,
   "id": "d6309528",
   "metadata": {},
   "outputs": [],
   "source": [
    "sc=StandardScaler()\n",
    "train_x=sc.fit_transform(xtrain)\n",
    "test_x=sc.fit_transform(xtest)"
   ]
  },
  {
   "cell_type": "code",
   "execution_count": 108,
   "id": "821824be",
   "metadata": {},
   "outputs": [
    {
     "name": "stdout",
     "output_type": "stream",
     "text": [
      "[ 0.33004921 -1.59050139 -0.28765847]\n"
     ]
    }
   ],
   "source": [
    "print(test_x[0])"
   ]
  },
  {
   "cell_type": "markdown",
   "id": "6ff60708",
   "metadata": {},
   "source": [
    "# KNeighbors classifier supervised algorithm"
   ]
  },
  {
   "cell_type": "code",
   "execution_count": 13,
   "id": "838d0cdb",
   "metadata": {},
   "outputs": [],
   "source": [
    "classifier=KNeighborsClassifier(n_neighbors=5)   #n_neighbors is hyperparamenter "
   ]
  },
  {
   "cell_type": "code",
   "execution_count": 14,
   "id": "8fb16bed",
   "metadata": {},
   "outputs": [
    {
     "data": {
      "text/plain": [
       "KNeighborsClassifier()"
      ]
     },
     "execution_count": 14,
     "metadata": {},
     "output_type": "execute_result"
    }
   ],
   "source": [
    "classifier.fit(train_x,ytrain.ravel())  #tranning the model"
   ]
  },
  {
   "cell_type": "code",
   "execution_count": 15,
   "id": "849e3c1b",
   "metadata": {},
   "outputs": [],
   "source": [
    "ypre=classifier.predict(test_x)  ## testing the model"
   ]
  },
  {
   "cell_type": "code",
   "execution_count": 16,
   "id": "ed9bf176",
   "metadata": {},
   "outputs": [
    {
     "name": "stdout",
     "output_type": "stream",
     "text": [
      "[[ 6420     4     3    97    19     0   116]\n",
      " [    9    26     6    99     3     1    57]\n",
      " [    7     8   767   165    15    13  1265]\n",
      " [  154    25   102  4394    81    30   517]\n",
      " [   25     2     6   297   215     9    95]\n",
      " [    7     3    47   383    12    28   108]\n",
      " [  148    33   635   507    27    30 15480]]\n"
     ]
    }
   ],
   "source": [
    "print(confusion_matrix(ytest,ypre)) # confusion matrics which helps to tell the  performace   about the model "
   ]
  },
  {
   "cell_type": "code",
   "execution_count": 17,
   "id": "1eb06c60",
   "metadata": {
    "scrolled": false
   },
   "outputs": [
    {
     "name": "stdout",
     "output_type": "stream",
     "text": [
      "              precision    recall  f1-score   support\n",
      "\n",
      "           1       0.95      0.96      0.96      6659\n",
      "           2       0.26      0.13      0.17       201\n",
      "           3       0.49      0.34      0.40      2240\n",
      "           4       0.74      0.83      0.78      5303\n",
      "           5       0.58      0.33      0.42       649\n",
      "           6       0.25      0.05      0.08       588\n",
      "           7       0.88      0.92      0.90     16860\n",
      "\n",
      "    accuracy                           0.84     32500\n",
      "   macro avg       0.59      0.51      0.53     32500\n",
      "weighted avg       0.82      0.84      0.83     32500\n",
      "\n"
     ]
    }
   ],
   "source": [
    "print(classification_report(ytest,ypre))   # the acuracy of the model is 84% whcih quite amazing"
   ]
  },
  {
   "cell_type": "markdown",
   "id": "7151c1f3",
   "metadata": {},
   "source": [
    "# Decision tree 2 supervised machine learnnin algorithm"
   ]
  },
  {
   "cell_type": "code",
   "execution_count": 18,
   "id": "d491c1ff",
   "metadata": {},
   "outputs": [],
   "source": [
    "DT=DecisionTreeClassifier(criterion=\"gini\",random_state=42)   # criterion  is the hyperparamerter and random state "
   ]
  },
  {
   "cell_type": "code",
   "execution_count": 19,
   "id": "2c84d2c6",
   "metadata": {},
   "outputs": [
    {
     "data": {
      "text/plain": [
       "DecisionTreeClassifier(random_state=42)"
      ]
     },
     "execution_count": 19,
     "metadata": {},
     "output_type": "execute_result"
    }
   ],
   "source": [
    "DT.fit(train_x,ytrain)  # traning the model\n"
   ]
  },
  {
   "cell_type": "code",
   "execution_count": 20,
   "id": "86b38723",
   "metadata": {},
   "outputs": [],
   "source": [
    "ypre1=DT.predict(test_x)   ## test the model on the test data"
   ]
  },
  {
   "cell_type": "code",
   "execution_count": 21,
   "id": "eed3a5d9",
   "metadata": {},
   "outputs": [
    {
     "name": "stdout",
     "output_type": "stream",
     "text": [
      "0.7805538461538462\n"
     ]
    }
   ],
   "source": [
    "print(accuracy_score(ytest,ypre1))  # the accuracy of the model is 78% which is less then KNN model"
   ]
  },
  {
   "cell_type": "markdown",
   "id": "ce6cfa28",
   "metadata": {},
   "source": [
    "# Neural network \n",
    "is this neural network"
   ]
  },
  {
   "cell_type": "code",
   "execution_count": 99,
   "id": "84d5add7",
   "metadata": {},
   "outputs": [
    {
     "name": "stdout",
     "output_type": "stream",
     "text": [
      "Model: \"sequential_17\"\n",
      "_________________________________________________________________\n",
      "Layer (type)                 Output Shape              Param #   \n",
      "=================================================================\n",
      "dense_100 (Dense)            (None, 512)               2048      \n",
      "_________________________________________________________________\n",
      "dense_101 (Dense)            (None, 256)               131328    \n",
      "_________________________________________________________________\n",
      "batch_normalization_42 (Batc (None, 256)               1024      \n",
      "_________________________________________________________________\n",
      "dropout_31 (Dropout)         (None, 256)               0         \n",
      "_________________________________________________________________\n",
      "dense_102 (Dense)            (None, 128)               32896     \n",
      "_________________________________________________________________\n",
      "dense_103 (Dense)            (None, 1)                 129       \n",
      "=================================================================\n",
      "Total params: 167,425\n",
      "Trainable params: 166,913\n",
      "Non-trainable params: 512\n",
      "_________________________________________________________________\n"
     ]
    }
   ],
   "source": [
    "model = k.Sequential([\n",
    "    \n",
    "    k.layers.Dense(512,activation='relu', input_shape=(xtrain.shape[1],)),\n",
    "\n",
    "    k.layers.Dense(256, activation='relu'),\n",
    "    k.layers.BatchNormalization(),\n",
    "    k.layers.Dropout(0.2),\n",
    "\n",
    "    k.layers.Dense(128, activation='softmax'),\n",
    "    k.layers.Dense(1,activation='sigmoid'),\n",
    "])\n",
    "\n",
    "\n",
    "model.compile(\n",
    "    optimizer=k.optimizers.Adam(),\n",
    "    loss='binary_crossentropy',\n",
    "    metrics=['accuracy']\n",
    ")\n",
    "model.summary()"
   ]
  },
  {
   "cell_type": "code",
   "execution_count": 85,
   "id": "38dfb0c2",
   "metadata": {},
   "outputs": [
    {
     "name": "stdout",
     "output_type": "stream",
     "text": [
      "[0 1 2 3 4 5 6 7]\n"
     ]
    }
   ],
   "source": [
    "list1=np.unique(ytrain)\n",
    "print(list1)   #number of classes in the dataset"
   ]
  },
  {
   "cell_type": "markdown",
   "id": "aedd38f6",
   "metadata": {},
   "source": [
    "# weights initilization"
   ]
  },
  {
   "cell_type": "code",
   "execution_count": 86,
   "id": "409fef18",
   "metadata": {},
   "outputs": [],
   "source": [
    "train_class_weights={0: 1.0,\n",
    "            1: 10.5, \n",
    "            2: 4.8,\n",
    "            3: 29.5,\n",
    "            4: 36.4,\n",
    "            5:32,\n",
    "            6:44,\n",
    "            7:30}"
   ]
  },
  {
   "cell_type": "markdown",
   "id": "56573857",
   "metadata": {},
   "source": [
    "#  epoxhs are iteration  ->hyperparameter"
   ]
  },
  {
   "cell_type": "code",
   "execution_count": 104,
   "id": "f9584d6c",
   "metadata": {},
   "outputs": [
    {
     "name": "stdout",
     "output_type": "stream",
     "text": [
      "Epoch 1/10\n",
      "4063/4063 [==============================] - 7s 2ms/step - loss: -331.9525 - accuracy: 0.2078\n",
      "Epoch 2/10\n",
      "4063/4063 [==============================] - 7s 2ms/step - loss: -363.4693 - accuracy: 0.2078\n",
      "Epoch 3/10\n",
      "4063/4063 [==============================] - 7s 2ms/step - loss: -394.9255 - accuracy: 0.2078\n",
      "Epoch 4/10\n",
      "4063/4063 [==============================] - 7s 2ms/step - loss: -426.3522 - accuracy: 0.2078\n",
      "Epoch 5/10\n",
      "4063/4063 [==============================] - 7s 2ms/step - loss: -457.8440 - accuracy: 0.2078\n",
      "Epoch 6/10\n",
      "4063/4063 [==============================] - 6s 2ms/step - loss: -489.2971 - accuracy: 0.2078\n",
      "Epoch 7/10\n",
      "4063/4063 [==============================] - 7s 2ms/step - loss: -520.7792 - accuracy: 0.2078\n",
      "Epoch 8/10\n",
      "4063/4063 [==============================] - 7s 2ms/step - loss: -552.2316 - accuracy: 0.2078\n",
      "Epoch 9/10\n",
      "4063/4063 [==============================] - 6s 2ms/step - loss: -583.6938 - accuracy: 0.2078\n",
      "Epoch 10/10\n",
      "4063/4063 [==============================] - 6s 2ms/step - loss: -615.1716 - accuracy: 0.2078\n"
     ]
    }
   ],
   "source": [
    "epochs = 10\n",
    "history = model.fit(\n",
    "                    train_x, ytrain, \n",
    "                    epochs=epochs\n",
    "                   )"
   ]
  },
  {
   "cell_type": "code",
   "execution_count": 112,
   "id": "bc5ba427",
   "metadata": {},
   "outputs": [
    {
     "ename": "IndexError",
     "evalue": "list index out of range",
     "output_type": "error",
     "traceback": [
      "\u001b[1;31m---------------------------------------------------------------------------\u001b[0m",
      "\u001b[1;31mIndexError\u001b[0m                                Traceback (most recent call last)",
      "\u001b[1;32m<ipython-input-112-88ee7d46c6a3>\u001b[0m in \u001b[0;36m<module>\u001b[1;34m\u001b[0m\n\u001b[0;32m      2\u001b[0m \u001b[0my\u001b[0m\u001b[1;33m=\u001b[0m\u001b[1;33m-\u001b[0m\u001b[1;36m1.59050139\u001b[0m\u001b[1;33m\u001b[0m\u001b[1;33m\u001b[0m\u001b[0m\n\u001b[0;32m      3\u001b[0m \u001b[0mz\u001b[0m\u001b[1;33m=\u001b[0m\u001b[1;33m-\u001b[0m\u001b[1;36m0.28765847\u001b[0m\u001b[1;33m\u001b[0m\u001b[1;33m\u001b[0m\u001b[0m\n\u001b[1;32m----> 4\u001b[1;33m \u001b[0mpredict\u001b[0m\u001b[1;33m=\u001b[0m\u001b[0mmodel\u001b[0m\u001b[1;33m.\u001b[0m\u001b[0mpredict\u001b[0m\u001b[1;33m(\u001b[0m\u001b[0mx\u001b[0m\u001b[1;33m,\u001b[0m\u001b[0my\u001b[0m\u001b[1;33m,\u001b[0m\u001b[0mz\u001b[0m\u001b[1;33m)\u001b[0m\u001b[1;33m\u001b[0m\u001b[1;33m\u001b[0m\u001b[0m\n\u001b[0m",
      "\u001b[1;32m~\\anaconda3\\lib\\site-packages\\tensorflow\\python\\keras\\engine\\training.py\u001b[0m in \u001b[0;36mpredict\u001b[1;34m(self, x, batch_size, verbose, steps, callbacks, max_queue_size, workers, use_multiprocessing)\u001b[0m\n\u001b[0;32m   1596\u001b[0m                         '. Consider setting it to AutoShardPolicy.DATA.')\n\u001b[0;32m   1597\u001b[0m \u001b[1;33m\u001b[0m\u001b[0m\n\u001b[1;32m-> 1598\u001b[1;33m       data_handler = data_adapter.DataHandler(\n\u001b[0m\u001b[0;32m   1599\u001b[0m           \u001b[0mx\u001b[0m\u001b[1;33m=\u001b[0m\u001b[0mx\u001b[0m\u001b[1;33m,\u001b[0m\u001b[1;33m\u001b[0m\u001b[1;33m\u001b[0m\u001b[0m\n\u001b[0;32m   1600\u001b[0m           \u001b[0mbatch_size\u001b[0m\u001b[1;33m=\u001b[0m\u001b[0mbatch_size\u001b[0m\u001b[1;33m,\u001b[0m\u001b[1;33m\u001b[0m\u001b[1;33m\u001b[0m\u001b[0m\n",
      "\u001b[1;32m~\\anaconda3\\lib\\site-packages\\tensorflow\\python\\keras\\engine\\data_adapter.py\u001b[0m in \u001b[0;36m__init__\u001b[1;34m(self, x, y, sample_weight, batch_size, steps_per_epoch, initial_epoch, epochs, shuffle, class_weight, max_queue_size, workers, use_multiprocessing, model, steps_per_execution)\u001b[0m\n\u001b[0;32m   1098\u001b[0m \u001b[1;33m\u001b[0m\u001b[0m\n\u001b[0;32m   1099\u001b[0m     \u001b[0madapter_cls\u001b[0m \u001b[1;33m=\u001b[0m \u001b[0mselect_data_adapter\u001b[0m\u001b[1;33m(\u001b[0m\u001b[0mx\u001b[0m\u001b[1;33m,\u001b[0m \u001b[0my\u001b[0m\u001b[1;33m)\u001b[0m\u001b[1;33m\u001b[0m\u001b[1;33m\u001b[0m\u001b[0m\n\u001b[1;32m-> 1100\u001b[1;33m     self._adapter = adapter_cls(\n\u001b[0m\u001b[0;32m   1101\u001b[0m         \u001b[0mx\u001b[0m\u001b[1;33m,\u001b[0m\u001b[1;33m\u001b[0m\u001b[1;33m\u001b[0m\u001b[0m\n\u001b[0;32m   1102\u001b[0m         \u001b[0my\u001b[0m\u001b[1;33m,\u001b[0m\u001b[1;33m\u001b[0m\u001b[1;33m\u001b[0m\u001b[0m\n",
      "\u001b[1;32m~\\anaconda3\\lib\\site-packages\\tensorflow\\python\\keras\\engine\\data_adapter.py\u001b[0m in \u001b[0;36m__init__\u001b[1;34m(self, x, y, sample_weights, sample_weight_modes, batch_size, shuffle, **kwargs)\u001b[0m\n\u001b[0;32m    641\u001b[0m         sample_weights, sample_weight_modes)\n\u001b[0;32m    642\u001b[0m \u001b[1;33m\u001b[0m\u001b[0m\n\u001b[1;32m--> 643\u001b[1;33m     self._internal_adapter = TensorLikeDataAdapter(\n\u001b[0m\u001b[0;32m    644\u001b[0m         \u001b[0mx\u001b[0m\u001b[1;33m,\u001b[0m\u001b[1;33m\u001b[0m\u001b[1;33m\u001b[0m\u001b[0m\n\u001b[0;32m    645\u001b[0m         \u001b[0my\u001b[0m\u001b[1;33m=\u001b[0m\u001b[0my\u001b[0m\u001b[1;33m,\u001b[0m\u001b[1;33m\u001b[0m\u001b[1;33m\u001b[0m\u001b[0m\n",
      "\u001b[1;32m~\\anaconda3\\lib\\site-packages\\tensorflow\\python\\keras\\engine\\data_adapter.py\u001b[0m in \u001b[0;36m__init__\u001b[1;34m(self, x, y, sample_weights, sample_weight_modes, batch_size, epochs, steps, shuffle, **kwargs)\u001b[0m\n\u001b[0;32m    271\u001b[0m     \u001b[0minputs\u001b[0m \u001b[1;33m=\u001b[0m \u001b[0mpack_x_y_sample_weight\u001b[0m\u001b[1;33m(\u001b[0m\u001b[0mx\u001b[0m\u001b[1;33m,\u001b[0m \u001b[0my\u001b[0m\u001b[1;33m,\u001b[0m \u001b[0msample_weights\u001b[0m\u001b[1;33m)\u001b[0m\u001b[1;33m\u001b[0m\u001b[1;33m\u001b[0m\u001b[0m\n\u001b[0;32m    272\u001b[0m \u001b[1;33m\u001b[0m\u001b[0m\n\u001b[1;32m--> 273\u001b[1;33m     \u001b[0mnum_samples\u001b[0m \u001b[1;33m=\u001b[0m \u001b[0mset\u001b[0m\u001b[1;33m(\u001b[0m\u001b[0mint\u001b[0m\u001b[1;33m(\u001b[0m\u001b[0mi\u001b[0m\u001b[1;33m.\u001b[0m\u001b[0mshape\u001b[0m\u001b[1;33m[\u001b[0m\u001b[1;36m0\u001b[0m\u001b[1;33m]\u001b[0m\u001b[1;33m)\u001b[0m \u001b[1;32mfor\u001b[0m \u001b[0mi\u001b[0m \u001b[1;32min\u001b[0m \u001b[0mnest\u001b[0m\u001b[1;33m.\u001b[0m\u001b[0mflatten\u001b[0m\u001b[1;33m(\u001b[0m\u001b[0minputs\u001b[0m\u001b[1;33m)\u001b[0m\u001b[1;33m)\u001b[0m\u001b[1;33m.\u001b[0m\u001b[0mpop\u001b[0m\u001b[1;33m(\u001b[0m\u001b[1;33m)\u001b[0m\u001b[1;33m\u001b[0m\u001b[1;33m\u001b[0m\u001b[0m\n\u001b[0m\u001b[0;32m    274\u001b[0m     \u001b[0m_check_data_cardinality\u001b[0m\u001b[1;33m(\u001b[0m\u001b[0minputs\u001b[0m\u001b[1;33m)\u001b[0m\u001b[1;33m\u001b[0m\u001b[1;33m\u001b[0m\u001b[0m\n\u001b[0;32m    275\u001b[0m \u001b[1;33m\u001b[0m\u001b[0m\n",
      "\u001b[1;32m~\\anaconda3\\lib\\site-packages\\tensorflow\\python\\keras\\engine\\data_adapter.py\u001b[0m in \u001b[0;36m<genexpr>\u001b[1;34m(.0)\u001b[0m\n\u001b[0;32m    271\u001b[0m     \u001b[0minputs\u001b[0m \u001b[1;33m=\u001b[0m \u001b[0mpack_x_y_sample_weight\u001b[0m\u001b[1;33m(\u001b[0m\u001b[0mx\u001b[0m\u001b[1;33m,\u001b[0m \u001b[0my\u001b[0m\u001b[1;33m,\u001b[0m \u001b[0msample_weights\u001b[0m\u001b[1;33m)\u001b[0m\u001b[1;33m\u001b[0m\u001b[1;33m\u001b[0m\u001b[0m\n\u001b[0;32m    272\u001b[0m \u001b[1;33m\u001b[0m\u001b[0m\n\u001b[1;32m--> 273\u001b[1;33m     \u001b[0mnum_samples\u001b[0m \u001b[1;33m=\u001b[0m \u001b[0mset\u001b[0m\u001b[1;33m(\u001b[0m\u001b[0mint\u001b[0m\u001b[1;33m(\u001b[0m\u001b[0mi\u001b[0m\u001b[1;33m.\u001b[0m\u001b[0mshape\u001b[0m\u001b[1;33m[\u001b[0m\u001b[1;36m0\u001b[0m\u001b[1;33m]\u001b[0m\u001b[1;33m)\u001b[0m \u001b[1;32mfor\u001b[0m \u001b[0mi\u001b[0m \u001b[1;32min\u001b[0m \u001b[0mnest\u001b[0m\u001b[1;33m.\u001b[0m\u001b[0mflatten\u001b[0m\u001b[1;33m(\u001b[0m\u001b[0minputs\u001b[0m\u001b[1;33m)\u001b[0m\u001b[1;33m)\u001b[0m\u001b[1;33m.\u001b[0m\u001b[0mpop\u001b[0m\u001b[1;33m(\u001b[0m\u001b[1;33m)\u001b[0m\u001b[1;33m\u001b[0m\u001b[1;33m\u001b[0m\u001b[0m\n\u001b[0m\u001b[0;32m    274\u001b[0m     \u001b[0m_check_data_cardinality\u001b[0m\u001b[1;33m(\u001b[0m\u001b[0minputs\u001b[0m\u001b[1;33m)\u001b[0m\u001b[1;33m\u001b[0m\u001b[1;33m\u001b[0m\u001b[0m\n\u001b[0;32m    275\u001b[0m \u001b[1;33m\u001b[0m\u001b[0m\n",
      "\u001b[1;32m~\\anaconda3\\lib\\site-packages\\tensorflow\\python\\framework\\tensor_shape.py\u001b[0m in \u001b[0;36m__getitem__\u001b[1;34m(self, key)\u001b[0m\n\u001b[0;32m    887\u001b[0m       \u001b[1;32melse\u001b[0m\u001b[1;33m:\u001b[0m\u001b[1;33m\u001b[0m\u001b[1;33m\u001b[0m\u001b[0m\n\u001b[0;32m    888\u001b[0m         \u001b[1;32mif\u001b[0m \u001b[0mself\u001b[0m\u001b[1;33m.\u001b[0m\u001b[0m_v2_behavior\u001b[0m\u001b[1;33m:\u001b[0m\u001b[1;33m\u001b[0m\u001b[1;33m\u001b[0m\u001b[0m\n\u001b[1;32m--> 889\u001b[1;33m           \u001b[1;32mreturn\u001b[0m \u001b[0mself\u001b[0m\u001b[1;33m.\u001b[0m\u001b[0m_dims\u001b[0m\u001b[1;33m[\u001b[0m\u001b[0mkey\u001b[0m\u001b[1;33m]\u001b[0m\u001b[1;33m.\u001b[0m\u001b[0mvalue\u001b[0m\u001b[1;33m\u001b[0m\u001b[1;33m\u001b[0m\u001b[0m\n\u001b[0m\u001b[0;32m    890\u001b[0m         \u001b[1;32melse\u001b[0m\u001b[1;33m:\u001b[0m\u001b[1;33m\u001b[0m\u001b[1;33m\u001b[0m\u001b[0m\n\u001b[0;32m    891\u001b[0m           \u001b[1;32mreturn\u001b[0m \u001b[0mself\u001b[0m\u001b[1;33m.\u001b[0m\u001b[0m_dims\u001b[0m\u001b[1;33m[\u001b[0m\u001b[0mkey\u001b[0m\u001b[1;33m]\u001b[0m\u001b[1;33m\u001b[0m\u001b[1;33m\u001b[0m\u001b[0m\n",
      "\u001b[1;31mIndexError\u001b[0m: list index out of range"
     ]
    }
   ],
   "source": [
    "x=0.33004921\n",
    "y=-1.59050139\n",
    "z=-0.28765847\n",
    "predict=model.predict(x,y,z)"
   ]
  }
 ],
 "metadata": {
  "kernelspec": {
   "display_name": "Python 3",
   "language": "python",
   "name": "python3"
  },
  "language_info": {
   "codemirror_mode": {
    "name": "ipython",
    "version": 3
   },
   "file_extension": ".py",
   "mimetype": "text/x-python",
   "name": "python",
   "nbconvert_exporter": "python",
   "pygments_lexer": "ipython3",
   "version": "3.8.8"
  }
 },
 "nbformat": 4,
 "nbformat_minor": 5
}
